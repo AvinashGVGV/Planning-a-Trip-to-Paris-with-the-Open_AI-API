{
 "cells": [
  {
   "cell_type": "markdown",
   "id": "da136585-eda4-40ce-b4be-efcb61e87d21",
   "metadata": {},
   "source": [
    "The ultimate aspiration AI-driven travel guide that significantly enhances the exploration of Paris. Users will be able to pre-define their questions and receive well-informed answers from the AI, providing a seamless and intuitive travel planning process."
   ]
  },
  {
   "cell_type": "code",
   "execution_count": null,
   "id": "fb7e431d-ebed-4db5-b4be-5102aaf55cef",
   "metadata": {},
   "outputs": [],
   "source": [
    "\n",
    "import os\n",
    "from openai import OpenAI\n",
    "\n",
    "\n",
    "# Define the model to use\n",
    "model = \"gpt-3.5-turbo\"\n",
    "\n",
    "# Define the client\n",
    "client = OpenAI(api_key=os.environ[\"OPENAI\"])\n",
    "\n",
    "# Define the conversation\n",
    "conversation =[\n",
    "    {\n",
    "        \"role\": \"system\",\n",
    "        \"content\":\"You are a travel guide designed to provide information about landmarks that tourists should explore in Paris. You speak in a concise manner.\"\n",
    "    },\n",
    "    {\n",
    "        \"role\":\"user\",\n",
    "        \"content\":\"What is the most famous landmark in Paris?\"\n",
    "    },\n",
    "    {\n",
    "        \"role\":\"assistant\",\n",
    "        \"content\":\"The most famous landmark in Paris is the Eiffel Tower.\"\n",
    "    },\n",
    "]\n",
    "\n",
    "# Define a list of questions\n",
    "questions = [\n",
    "    \"How far away is the Louvre from the Eiffel Tower (in driving miles)?\",\n",
    "    \"Where is the Arc de Triomphe?\",\n",
    "    \"What are the must-see artworks at the Louvre Museum?\",\n",
    "]\n",
    "\n",
    "# Loop through each question to generate responses\n",
    "for question in questions:\n",
    "\n",
    "    # Format the user input into dictionary form\n",
    "    input_dict = {\"role\": \"user\", \"content\": question}\n",
    "    \n",
    "    # Add the user input dictionary to the conversation\n",
    "    conversation.append(input_dict)  \n",
    "\n",
    "    # Make the next API call\n",
    "    response = client.chat.completions.create(\n",
    "        model=model,\n",
    "        messages=conversation,\n",
    "        temperature=0.0,\n",
    "        max_tokens=100\n",
    "    )\n",
    "    \n",
    "    # Print the response from the model\n",
    "    resp = response.choices[0].message.content\n",
    "    print(resp)\n",
    "\n",
    "    # Convert the response into the dictionary\n",
    "    resp_dict = {\"role\": \"assistant\", \"content\": resp}\n",
    "    \n",
    "    # Append the response to the conversation\n",
    "    conversation.append(resp_dict)"
   ]
  }
 ],
 "metadata": {
  "kernelspec": {
   "display_name": "Python 3 (ipykernel)",
   "language": "python",
   "name": "python3"
  },
  "language_info": {
   "codemirror_mode": {
    "name": "ipython",
    "version": 3
   },
   "file_extension": ".py",
   "mimetype": "text/x-python",
   "name": "python",
   "nbconvert_exporter": "python",
   "pygments_lexer": "ipython3",
   "version": "3.13.1"
  }
 },
 "nbformat": 4,
 "nbformat_minor": 5
}
